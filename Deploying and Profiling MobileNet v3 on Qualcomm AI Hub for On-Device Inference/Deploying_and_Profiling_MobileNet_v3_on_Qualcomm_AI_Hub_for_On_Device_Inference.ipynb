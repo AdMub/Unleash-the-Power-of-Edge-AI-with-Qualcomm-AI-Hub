{
  "cells": [
    {
      "cell_type": "code",
      "execution_count": null,
      "metadata": {
        "colab": {
          "base_uri": "https://localhost:8080/"
        },
        "id": "NqBIA5eSzh8A",
        "outputId": "5a277dd6-cf9b-48e3-d1db-45b75ca4aa54"
      },
      "outputs": [
        {
          "output_type": "stream",
          "name": "stdout",
          "text": [
            "Requirement already satisfied: qai-hub in /usr/local/lib/python3.11/dist-packages (0.24.0)\n",
            "Requirement already satisfied: backoff>=2.2 in /usr/local/lib/python3.11/dist-packages (from qai-hub) (2.2.1)\n",
            "Requirement already satisfied: deprecation in /usr/local/lib/python3.11/dist-packages (from qai-hub) (2.1.0)\n",
            "Requirement already satisfied: h5py<4,>=2.10.0 in /usr/local/lib/python3.11/dist-packages (from qai-hub) (3.12.1)\n",
            "Requirement already satisfied: numpy<2,>=1.22.0 in /usr/local/lib/python3.11/dist-packages (from qai-hub) (1.26.4)\n",
            "Requirement already satisfied: packaging>=20.0 in /usr/local/lib/python3.11/dist-packages (from qai-hub) (24.2)\n",
            "Requirement already satisfied: prettytable>=3.9.0 in /usr/local/lib/python3.11/dist-packages (from qai-hub) (3.14.0)\n",
            "Requirement already satisfied: protobuf<4,>=3.20 in /usr/local/lib/python3.11/dist-packages (from qai-hub) (3.20.3)\n",
            "Requirement already satisfied: requests in /usr/local/lib/python3.11/dist-packages (from qai-hub) (2.32.3)\n",
            "Requirement already satisfied: requests-toolbelt in /usr/local/lib/python3.11/dist-packages (from qai-hub) (1.0.0)\n",
            "Requirement already satisfied: s3transfer<0.11,>=0.10.3 in /usr/local/lib/python3.11/dist-packages (from qai-hub) (0.10.4)\n",
            "Requirement already satisfied: semver>=3.0 in /usr/local/lib/python3.11/dist-packages (from qai-hub) (3.0.4)\n",
            "Requirement already satisfied: tqdm in /usr/local/lib/python3.11/dist-packages (from qai-hub) (4.67.1)\n",
            "Requirement already satisfied: typing-extensions>=4.12.2 in /usr/local/lib/python3.11/dist-packages (from qai-hub) (4.12.2)\n",
            "Requirement already satisfied: wcwidth in /usr/local/lib/python3.11/dist-packages (from prettytable>=3.9.0->qai-hub) (0.2.13)\n",
            "Requirement already satisfied: botocore<2.0a.0,>=1.33.2 in /usr/local/lib/python3.11/dist-packages (from s3transfer<0.11,>=0.10.3->qai-hub) (1.36.21)\n",
            "Requirement already satisfied: charset-normalizer<4,>=2 in /usr/local/lib/python3.11/dist-packages (from requests->qai-hub) (3.4.1)\n",
            "Requirement already satisfied: idna<4,>=2.5 in /usr/local/lib/python3.11/dist-packages (from requests->qai-hub) (3.10)\n",
            "Requirement already satisfied: urllib3<3,>=1.21.1 in /usr/local/lib/python3.11/dist-packages (from requests->qai-hub) (2.3.0)\n",
            "Requirement already satisfied: certifi>=2017.4.17 in /usr/local/lib/python3.11/dist-packages (from requests->qai-hub) (2025.1.31)\n",
            "Requirement already satisfied: jmespath<2.0.0,>=0.7.1 in /usr/local/lib/python3.11/dist-packages (from botocore<2.0a.0,>=1.33.2->s3transfer<0.11,>=0.10.3->qai-hub) (1.0.1)\n",
            "Requirement already satisfied: python-dateutil<3.0.0,>=2.1 in /usr/local/lib/python3.11/dist-packages (from botocore<2.0a.0,>=1.33.2->s3transfer<0.11,>=0.10.3->qai-hub) (2.8.2)\n",
            "Requirement already satisfied: six>=1.5 in /usr/local/lib/python3.11/dist-packages (from python-dateutil<3.0.0,>=2.1->botocore<2.0a.0,>=1.33.2->s3transfer<0.11,>=0.10.3->qai-hub) (1.17.0)\n"
          ]
        }
      ],
      "source": [
        "pip install qai-hub"
      ]
    },
    {
      "cell_type": "code",
      "execution_count": null,
      "metadata": {
        "colab": {
          "base_uri": "https://localhost:8080/"
        },
        "id": "sq4Y_Z-V3Gvm",
        "outputId": "c1bfdc16-3c44-4379-8c8c-e289a2c0addd"
      },
      "outputs": [
        {
          "output_type": "stream",
          "name": "stdout",
          "text": [
            "/usr/local/lib/python3.11/dist-packages/qai_hub/_cli.py:358: UserWarning: Overwriting configuration: /root/.qai_hub/client.ini (previous configuration saved to /root/.qai_hub/client.ini.bak)\n",
            "  warnings.warn(\n",
            "qai-hub configuration saved to /root/.qai_hub/client.ini\n",
            "==================== /root/.qai_hub/client.ini ====================\n",
            "[api]\n",
            "api_token = 00263f5bbf494c5720f6bd2cc97312a8ed6c5647\n",
            "api_url = https://app.aihub.qualcomm.com\n",
            "web_url = https://app.aihub.qualcomm.com\n",
            "verbose = True\n",
            "\n",
            "\n"
          ]
        }
      ],
      "source": [
        "!qai-hub configure --api_token 00263f5bbf494c5720f6bd2cc97312a8ed6c5647"
      ]
    },
    {
      "cell_type": "code",
      "execution_count": null,
      "metadata": {
        "colab": {
          "base_uri": "https://localhost:8080/"
        },
        "id": "58svWdaV3ZN2",
        "outputId": "15b2ed18-971b-4b41-adfe-d7042f9d47fb"
      },
      "outputs": [
        {
          "output_type": "execute_result",
          "data": {
            "text/plain": [
              "[Device(name='Google Pixel 3 (Family)', os='10', attributes=['os:android', 'framework:tflite', 'framework:onnx', 'abi:aarch64-android', 'vendor:google', 'format:phone', 'chipset:qualcomm-snapdragon-845', 'chipset:sdm845', 'hexagon:v65', 'soc-model:1']),\n",
              " Device(name='Google Pixel 3', os='10', attributes=['os:android', 'framework:tflite', 'framework:onnx', 'abi:aarch64-android', 'vendor:google', 'format:phone', 'chipset:qualcomm-snapdragon-845', 'chipset:sdm845', 'hexagon:v65', 'soc-model:1']),\n",
              " Device(name='Google Pixel 3a', os='10', attributes=['os:android', 'framework:tflite', 'framework:onnx', 'abi:aarch64-android', 'vendor:google', 'format:phone', 'chipset:qualcomm-snapdragon-670', 'chipset:sdm670', 'hexagon:v65', 'soc-model:6']),\n",
              " Device(name='Google Pixel 3 XL', os='10', attributes=['os:android', 'framework:tflite', 'framework:onnx', 'abi:aarch64-android', 'vendor:google', 'format:phone', 'chipset:qualcomm-snapdragon-845', 'chipset:sdm845', 'hexagon:v65', 'soc-model:1']),\n",
              " Device(name='Google Pixel 4', os='10', attributes=['os:android', 'framework:tflite', 'framework:onnx', 'abi:aarch64-android', 'vendor:google', 'format:phone', 'chipset:qualcomm-snapdragon-855', 'chipset:sm8150', 'hexagon:v66', 'soc-model:12']),\n",
              " Device(name='Google Pixel 4', os='11', attributes=['os:android', 'framework:tflite', 'framework:onnx', 'abi:aarch64-android', 'vendor:google', 'format:phone', 'chipset:qualcomm-snapdragon-855', 'chipset:sm8150', 'hexagon:v66', 'soc-model:12']),\n",
              " Device(name='Google Pixel 4a', os='11', attributes=['os:android', 'framework:tflite', 'framework:onnx', 'abi:aarch64-android', 'vendor:google', 'format:phone', 'chipset:qualcomm-snapdragon-730g', 'chipset:sm7150-ab', 'hexagon:v65', 'soc-model:17']),\n",
              " Device(name='Google Pixel 5', os='11', attributes=['os:android', 'framework:tflite', 'framework:onnx', 'abi:aarch64-android', 'vendor:google', 'format:phone', 'chipset:qualcomm-snapdragon-765g', 'chipset:sm7250', 'hexagon:v66', 'soc-model:25']),\n",
              " Device(name='Samsung Galaxy Tab S7', os='11', attributes=['os:android', 'framework:tflite', 'framework:onnx', 'abi:aarch64-android', 'vendor:samsung', 'format:tablet', 'chipset:qualcomm-snapdragon-865+', 'chipset:sm8250-ab', 'hexagon:v66', 'soc-model:21']),\n",
              " Device(name='Samsung Galaxy Tab A8 (2021)', os='11', attributes=['os:android', 'framework:tflite', 'framework:onnx', 'abi:aarch64-android', 'vendor:samsung', 'format:tablet', 'chipset:qualcomm-snapdragon-429', 'chipset:sdm429']),\n",
              " Device(name='Samsung Galaxy Note 20 (Intl)', os='11', attributes=['os:android', 'framework:tflite', 'framework:onnx', 'abi:aarch64-android', 'vendor:samsung', 'format:phone', 'chipset:samsung-exynos-990']),\n",
              " Device(name='Samsung Galaxy S21 (Family)', os='11', attributes=['os:android', 'framework:tflite', 'framework:onnx', 'abi:aarch64-android', 'vendor:samsung', 'format:phone', 'chipset:qualcomm-snapdragon-888', 'chipset:sm8350', 'hexagon:v68', 'soc-model:30', 'framework:qnn']),\n",
              " Device(name='Samsung Galaxy S21', os='11', attributes=['os:android', 'framework:tflite', 'framework:onnx', 'abi:aarch64-android', 'vendor:samsung', 'format:phone', 'chipset:qualcomm-snapdragon-888', 'chipset:sm8350', 'hexagon:v68', 'soc-model:30', 'framework:qnn']),\n",
              " Device(name='Samsung Galaxy S21+', os='11', attributes=['os:android', 'framework:tflite', 'framework:onnx', 'abi:aarch64-android', 'vendor:samsung', 'format:phone', 'chipset:qualcomm-snapdragon-888', 'chipset:sm8350', 'hexagon:v68', 'soc-model:30', 'framework:qnn']),\n",
              " Device(name='Samsung Galaxy S21 Ultra', os='11', attributes=['os:android', 'framework:tflite', 'framework:onnx', 'abi:aarch64-android', 'vendor:samsung', 'format:phone', 'chipset:qualcomm-snapdragon-888', 'chipset:sm8350', 'hexagon:v68', 'soc-model:30', 'framework:qnn']),\n",
              " Device(name='Xiaomi Redmi Note 10 5G', os='11', attributes=['os:android', 'framework:tflite', 'framework:onnx', 'abi:aarch64-android', 'vendor:oneplus', 'format:phone', 'chipset:qualcomm-snapdragon-678', 'chipset:sm6150-ac', 'hexagon:v66', 'soc-model:16']),\n",
              " Device(name='Google Pixel 3a XL', os='12', attributes=['os:android', 'framework:tflite', 'framework:onnx', 'abi:aarch64-android', 'vendor:google', 'format:phone', 'chipset:qualcomm-snapdragon-670', 'chipset:sdm670', 'hexagon:v65', 'soc-model:6']),\n",
              " Device(name='Google Pixel 4a', os='12', attributes=['os:android', 'framework:tflite', 'framework:onnx', 'abi:aarch64-android', 'vendor:google', 'format:phone', 'chipset:qualcomm-snapdragon-730g', 'chipset:sm7150-ab', 'hexagon:v65', 'soc-model:17']),\n",
              " Device(name='Google Pixel 5 (Family)', os='12', attributes=['os:android', 'framework:tflite', 'framework:onnx', 'abi:aarch64-android', 'vendor:google', 'format:phone', 'chipset:qualcomm-snapdragon-765g', 'chipset:sm7250', 'hexagon:v66', 'soc-model:25']),\n",
              " Device(name='Google Pixel 5', os='12', attributes=['os:android', 'framework:tflite', 'framework:onnx', 'abi:aarch64-android', 'vendor:google', 'format:phone', 'chipset:qualcomm-snapdragon-765g', 'chipset:sm7250', 'hexagon:v66', 'soc-model:25']),\n",
              " Device(name='Google Pixel 5a 5G', os='12', attributes=['os:android', 'framework:tflite', 'framework:onnx', 'abi:aarch64-android', 'vendor:google', 'format:phone', 'chipset:qualcomm-snapdragon-765g', 'chipset:sm7250', 'hexagon:v66', 'soc-model:25']),\n",
              " Device(name='Google Pixel 6', os='12', attributes=['os:android', 'framework:tflite', 'framework:onnx', 'abi:aarch64-android', 'vendor:google', 'format:phone', 'chipset:google-tensor']),\n",
              " Device(name='Samsung Galaxy A53 5G', os='12', attributes=['os:android', 'framework:tflite', 'framework:onnx', 'abi:aarch64-android', 'vendor:samsung', 'format:phone', 'chipset:samsung-exynos-1280']),\n",
              " Device(name='Samsung Galaxy A73 5G', os='12', attributes=['os:android', 'framework:tflite', 'framework:onnx', 'abi:aarch64-android', 'vendor:samsung', 'format:phone', 'chipset:qualcomm-snapdragon-778g', 'chipset:sm7325', 'hexagon:v68', 'soc-model:35', 'framework:qnn']),\n",
              " Device(name='RB3 Gen 2 (Proxy)', os='12', attributes=['os:android', 'framework:tflite', 'framework:onnx', 'abi:aarch64-android', 'vendor:qualcomm', 'format:iot', 'chipset:qualcomm-qcs6490-proxy', 'hexagon:v68', 'soc-model:35', 'framework:qnn']),\n",
              " Device(name='QCS6490 (Proxy)', os='12', attributes=['os:android', 'framework:tflite', 'framework:onnx', 'abi:aarch64-android', 'vendor:qualcomm', 'format:iot', 'chipset:qualcomm-qcs6490-proxy', 'hexagon:v68', 'soc-model:35', 'framework:qnn']),\n",
              " Device(name='RB5 (Proxy)', os='12', attributes=['os:android', 'framework:tflite', 'framework:onnx', 'abi:aarch64-android', 'vendor:qualcomm', 'format:iot', 'chipset:qualcomm-qcs8250-proxy', 'hexagon:v66', 'soc-model:21']),\n",
              " Device(name='QCS8250 (Proxy)', os='12', attributes=['os:android', 'framework:tflite', 'framework:onnx', 'abi:aarch64-android', 'vendor:qualcomm', 'format:iot', 'chipset:qualcomm-qcs8250-proxy', 'hexagon:v66', 'soc-model:21']),\n",
              " Device(name='QCS8550 (Proxy)', os='12', attributes=['os:android', 'framework:tflite', 'framework:onnx', 'abi:aarch64-android', 'vendor:qualcomm', 'format:iot', 'chipset:qualcomm-qcs8550-proxy', 'hexagon:v73', 'soc-model:43', 'htp-supports-fp16:true', 'framework:qnn']),\n",
              " Device(name='Samsung Galaxy S21 (Family)', os='12', attributes=['os:android', 'framework:tflite', 'framework:onnx', 'abi:aarch64-android', 'vendor:samsung', 'format:phone', 'chipset:qualcomm-snapdragon-888', 'chipset:sm8350', 'hexagon:v68', 'soc-model:30', 'framework:qnn']),\n",
              " Device(name='Samsung Galaxy S21', os='12', attributes=['os:android', 'framework:tflite', 'framework:onnx', 'abi:aarch64-android', 'vendor:samsung', 'format:phone', 'chipset:qualcomm-snapdragon-888', 'chipset:sm8350', 'hexagon:v68', 'soc-model:30', 'framework:qnn']),\n",
              " Device(name='Samsung Galaxy S21 Ultra', os='12', attributes=['os:android', 'framework:tflite', 'framework:onnx', 'abi:aarch64-android', 'vendor:samsung', 'format:phone', 'chipset:qualcomm-snapdragon-888', 'chipset:sm8350', 'hexagon:v68', 'soc-model:30', 'framework:qnn']),\n",
              " Device(name='Samsung Galaxy S22 (Family)', os='12', attributes=['os:android', 'framework:tflite', 'framework:onnx', 'abi:aarch64-android', 'vendor:samsung', 'format:phone', 'chipset:qualcomm-snapdragon-8gen1', 'chipset:sm8450', 'hexagon:v69', 'soc-model:36', 'htp-supports-fp16:true', 'framework:qnn']),\n",
              " Device(name='Samsung Galaxy S22 Ultra 5G', os='12', attributes=['os:android', 'framework:tflite', 'framework:onnx', 'abi:aarch64-android', 'vendor:samsung', 'format:phone', 'chipset:qualcomm-snapdragon-8gen1', 'chipset:sm8450', 'hexagon:v69', 'soc-model:36', 'htp-supports-fp16:true', 'framework:qnn']),\n",
              " Device(name='Samsung Galaxy S22 5G', os='12', attributes=['os:android', 'framework:tflite', 'framework:onnx', 'abi:aarch64-android', 'vendor:samsung', 'format:phone', 'chipset:qualcomm-snapdragon-8gen1', 'chipset:sm8450', 'hexagon:v69', 'soc-model:36', 'htp-supports-fp16:true', 'framework:qnn']),\n",
              " Device(name='Samsung Galaxy S22+ 5G', os='12', attributes=['os:android', 'framework:tflite', 'framework:onnx', 'abi:aarch64-android', 'vendor:samsung', 'format:phone', 'chipset:qualcomm-snapdragon-8gen1', 'chipset:sm8450', 'hexagon:v69', 'soc-model:36', 'htp-supports-fp16:true', 'framework:qnn']),\n",
              " Device(name='Samsung Galaxy Tab S8', os='12', attributes=['os:android', 'framework:tflite', 'framework:onnx', 'abi:aarch64-android', 'vendor:samsung', 'format:tablet', 'chipset:qualcomm-snapdragon-8gen1', 'chipset:sm8450', 'hexagon:v69', 'soc-model:36', 'htp-supports-fp16:true', 'framework:qnn']),\n",
              " Device(name='Xiaomi 12 (Family)', os='12', attributes=['os:android', 'framework:tflite', 'framework:onnx', 'abi:aarch64-android', 'vendor:xiaomi', 'format:phone', 'chipset:qualcomm-snapdragon-8gen1', 'chipset:sm8450', 'hexagon:v69', 'soc-model:36', 'htp-supports-fp16:true', 'framework:qnn']),\n",
              " Device(name='Xiaomi 12', os='12', attributes=['os:android', 'framework:tflite', 'framework:onnx', 'abi:aarch64-android', 'vendor:xiaomi', 'format:phone', 'chipset:qualcomm-snapdragon-8gen1', 'chipset:sm8450', 'hexagon:v69', 'soc-model:36', 'htp-supports-fp16:true', 'framework:qnn']),\n",
              " Device(name='Xiaomi 12 Pro', os='12', attributes=['os:android', 'framework:tflite', 'framework:onnx', 'abi:aarch64-android', 'vendor:xiaomi', 'format:phone', 'chipset:qualcomm-snapdragon-8gen1', 'chipset:sm8450', 'hexagon:v69', 'soc-model:36', 'htp-supports-fp16:true', 'framework:qnn']),\n",
              " Device(name='Google Pixel 6 (Family)', os='13', attributes=['os:android', 'framework:tflite', 'framework:onnx', 'abi:aarch64-android', 'vendor:google', 'format:phone', 'chipset:google-tensor']),\n",
              " Device(name='Google Pixel 6', os='13', attributes=['os:android', 'framework:tflite', 'framework:onnx', 'abi:aarch64-android', 'vendor:google', 'format:phone', 'chipset:google-tensor']),\n",
              " Device(name='Google Pixel 6a', os='13', attributes=['os:android', 'framework:tflite', 'framework:onnx', 'abi:aarch64-android', 'vendor:google', 'format:phone', 'chipset:google-tensor']),\n",
              " Device(name='Google Pixel 7 (Family)', os='13', attributes=['os:android', 'framework:tflite', 'framework:onnx', 'abi:aarch64-android', 'vendor:google', 'format:phone', 'chipset:google-tensor-g2']),\n",
              " Device(name='Google Pixel 7', os='13', attributes=['os:android', 'framework:tflite', 'framework:onnx', 'abi:aarch64-android', 'vendor:google', 'format:phone', 'chipset:google-tensor-g2']),\n",
              " Device(name='Google Pixel 7 Pro', os='13', attributes=['os:android', 'framework:tflite', 'framework:onnx', 'abi:aarch64-android', 'vendor:google', 'format:phone', 'chipset:google-tensor-g2']),\n",
              " Device(name='Samsung Galaxy A14 5G', os='13', attributes=['os:android', 'framework:tflite', 'framework:onnx', 'abi:aarch64-android', 'vendor:samsung', 'format:phone', 'chipset:samsung-exynos-1330']),\n",
              " Device(name='Samsung Galaxy S22 5G', os='13', attributes=['os:android', 'framework:tflite', 'framework:onnx', 'abi:aarch64-android', 'vendor:samsung', 'format:phone', 'chipset:qualcomm-snapdragon-8gen1', 'chipset:sm8450', 'hexagon:v69', 'soc-model:36', 'htp-supports-fp16:true', 'framework:qnn']),\n",
              " Device(name='QCS8450 (Proxy)', os='13', attributes=['os:android', 'framework:tflite', 'framework:onnx', 'abi:aarch64-android', 'vendor:qualcomm', 'format:xr', 'chipset:qualcomm-qcs8450-proxy', 'hexagon:v69', 'soc-model:36', 'htp-supports-fp16:true', 'framework:qnn']),\n",
              " Device(name='XR2 Gen 2 (Proxy)', os='13', attributes=['os:android', 'framework:tflite', 'framework:onnx', 'abi:aarch64-android', 'vendor:qualcomm', 'format:xr', 'chipset:qualcomm-qcs8450-proxy', 'hexagon:v69', 'soc-model:36', 'htp-supports-fp16:true', 'framework:qnn']),\n",
              " Device(name='Samsung Galaxy S23 (Family)', os='13', attributes=['os:android', 'framework:tflite', 'framework:onnx', 'abi:aarch64-android', 'vendor:samsung', 'format:phone', 'chipset:qualcomm-snapdragon-8gen2', 'chipset:sm8550', 'hexagon:v73', 'soc-model:43', 'htp-supports-fp16:true', 'framework:qnn']),\n",
              " Device(name='SA8650 (Proxy)', os='13', attributes=['os:android', 'framework:tflite', 'framework:onnx', 'abi:aarch64-android', 'format:auto', 'vendor:qualcomm', 'chipset:qualcomm-sa8650p-proxy', 'hexagon:v73', 'soc-model:43', 'htp-supports-fp16:true', 'framework:qnn']),\n",
              " Device(name='SA8775 (Proxy)', os='13', attributes=['os:android', 'framework:tflite', 'framework:onnx', 'abi:aarch64-android', 'format:auto', 'vendor:qualcomm', 'chipset:qualcomm-sa8775p-proxy', 'hexagon:v73', 'soc-model:43', 'htp-supports-fp16:true', 'framework:qnn']),\n",
              " Device(name='SA8255 (Proxy)', os='13', attributes=['os:android', 'framework:tflite', 'framework:onnx', 'abi:aarch64-android', 'format:auto', 'vendor:qualcomm', 'chipset:qualcomm-sa8255p-proxy', 'hexagon:v73', 'soc-model:43', 'htp-supports-fp16:true', 'framework:qnn']),\n",
              " Device(name='Samsung Galaxy S23', os='13', attributes=['os:android', 'framework:tflite', 'framework:onnx', 'abi:aarch64-android', 'vendor:samsung', 'format:phone', 'chipset:qualcomm-snapdragon-8gen2', 'chipset:sm8550', 'hexagon:v73', 'soc-model:43', 'htp-supports-fp16:true', 'framework:qnn']),\n",
              " Device(name='Samsung Galaxy S23+', os='13', attributes=['os:android', 'framework:tflite', 'framework:onnx', 'abi:aarch64-android', 'vendor:samsung', 'format:phone', 'chipset:qualcomm-snapdragon-8gen2', 'chipset:sm8550', 'hexagon:v73', 'soc-model:43', 'htp-supports-fp16:true', 'framework:qnn']),\n",
              " Device(name='Samsung Galaxy S23 Ultra', os='13', attributes=['os:android', 'framework:tflite', 'framework:onnx', 'abi:aarch64-android', 'vendor:samsung', 'format:phone', 'chipset:qualcomm-snapdragon-8gen2', 'chipset:sm8550', 'hexagon:v73', 'soc-model:43', 'htp-supports-fp16:true', 'framework:qnn']),\n",
              " Device(name='Google Pixel 7', os='14', attributes=['os:android', 'framework:tflite', 'framework:onnx', 'abi:aarch64-android', 'vendor:google', 'format:phone', 'chipset:google-tensor-g2']),\n",
              " Device(name='Google Pixel 8 (Family)', os='14', attributes=['os:android', 'framework:tflite', 'framework:onnx', 'abi:aarch64-android', 'vendor:google', 'format:phone', 'chipset:google-tensor-g3']),\n",
              " Device(name='Google Pixel 8', os='14', attributes=['os:android', 'framework:tflite', 'framework:onnx', 'abi:aarch64-android', 'vendor:google', 'format:phone', 'chipset:google-tensor-g3']),\n",
              " Device(name='Google Pixel 8 Pro', os='14', attributes=['os:android', 'framework:tflite', 'framework:onnx', 'abi:aarch64-android', 'vendor:google', 'format:phone', 'chipset:google-tensor-g3']),\n",
              " Device(name='Samsung Galaxy S24 (Family)', os='14', attributes=['os:android', 'framework:tflite', 'framework:onnx', 'abi:aarch64-android', 'vendor:samsung', 'format:phone', 'chipset:qualcomm-snapdragon-8gen3', 'chipset:sm8650', 'hexagon:v75', 'soc-model:57', 'htp-supports-fp16:true', 'framework:qnn']),\n",
              " Device(name='Samsung Galaxy S24', os='14', attributes=['os:android', 'framework:tflite', 'framework:onnx', 'abi:aarch64-android', 'vendor:samsung', 'format:phone', 'chipset:qualcomm-snapdragon-8gen3', 'chipset:sm8650', 'hexagon:v75', 'soc-model:57', 'htp-supports-fp16:true', 'framework:qnn']),\n",
              " Device(name='Samsung Galaxy S24 Ultra', os='14', attributes=['os:android', 'framework:tflite', 'framework:onnx', 'abi:aarch64-android', 'vendor:samsung', 'format:phone', 'chipset:qualcomm-snapdragon-8gen3', 'chipset:sm8650', 'hexagon:v75', 'soc-model:57', 'htp-supports-fp16:true', 'framework:qnn']),\n",
              " Device(name='Samsung Galaxy S24+', os='14', attributes=['os:android', 'framework:tflite', 'framework:onnx', 'abi:aarch64-android', 'vendor:samsung', 'format:phone', 'chipset:qualcomm-snapdragon-8gen3', 'chipset:sm8650', 'hexagon:v75', 'soc-model:57', 'htp-supports-fp16:true', 'framework:qnn']),\n",
              " Device(name='Snapdragon 8cx Gen 3 CRD', os='11', attributes=['os:windows', 'format:compute', 'framework:onnx', 'vendor:qualcomm', 'abi:aarch64-windows', 'chipset:qualcomm-snapdragon-8cxgen3', 'chipset:sc8280x', 'hexagon:v68', 'soc-model:37', 'framework:qnn']),\n",
              " Device(name='Snapdragon X Elite CRD', os='11', attributes=['os:windows', 'format:compute', 'framework:onnx', 'vendor:qualcomm', 'abi:aarch64-windows', 'chipset:qualcomm-snapdragon-x-elite', 'chipset:sc8380xp', 'hexagon:v73', 'soc-model:60', 'htp-supports-fp16:true', 'framework:qnn']),\n",
              " Device(name='Snapdragon X Plus 8-Core CRD', os='11', attributes=['os:windows', 'format:compute', 'framework:onnx', 'vendor:qualcomm', 'abi:aarch64-windows', 'chipset:qualcomm-snapdragon-x-plus-8-core', 'chipset:sc8340xp', 'hexagon:v73', 'soc-model:60', 'htp-supports-fp16:true', 'framework:qnn']),\n",
              " Device(name='Snapdragon 8 Elite QRD', os='15', attributes=['os:android', 'framework:tflite', 'framework:onnx', 'vendor:qualcomm', 'abi:aarch64-android', 'format:phone', 'chipset:qualcomm-snapdragon-8-elite', 'chipset:sm8750', 'hexagon:v79', 'soc-model:69', 'htp-supports-fp16:true', 'framework:qnn']),\n",
              " Device(name='SA8295P ADP', os='14', attributes=['os:android', 'framework:tflite', 'framework:onnx', 'vendor:qualcomm', 'abi:aarch64-android', 'format:auto', 'chipset:qualcomm-sa8295p', 'hexagon:v68', 'soc-model:39', 'htp-supports-fp16:true', 'framework:qnn']),\n",
              " Device(name='SA8775P ADP', os='14', attributes=['os:android', 'framework:tflite', 'framework:onnx', 'vendor:qualcomm', 'abi:aarch64-android', 'format:auto', 'chipset:qualcomm-sa8775p', 'hexagon:v73', 'soc-model:52', 'htp-supports-fp16:true', 'framework:qnn']),\n",
              " Device(name='SA7255P ADP', os='14', attributes=['os:android', 'framework:tflite', 'framework:onnx', 'vendor:qualcomm', 'abi:aarch64-android', 'format:auto', 'chipset:qualcomm-sa7255p', 'hexagon:v75', 'soc-model:67', 'htp-supports-fp16:true', 'framework:qnn']),\n",
              " Device(name='QCS9075 (Proxy)', os='14', attributes=['os:android', 'framework:tflite', 'framework:onnx', 'vendor:qualcomm', 'abi:aarch64-android', 'format:iot', 'chipset:qualcomm-qcs9075-proxy', 'hexagon:v73', 'soc-model:52', 'htp-supports-fp16:true', 'framework:qnn']),\n",
              " Device(name='QCS8275 (Proxy)', os='14', attributes=['os:android', 'framework:tflite', 'framework:onnx', 'vendor:qualcomm', 'abi:aarch64-android', 'format:iot', 'chipset:qualcomm-qcs8275-proxy', 'hexagon:v75', 'soc-model:67', 'htp-supports-fp16:true', 'framework:qnn'])]"
            ]
          },
          "metadata": {},
          "execution_count": 22
        }
      ],
      "source": [
        "import qai_hub as hub\n",
        "hub.get_devices()"
      ]
    },
    {
      "cell_type": "code",
      "execution_count": null,
      "metadata": {
        "id": "XooJGtO8ZQvT"
      },
      "outputs": [],
      "source": [
        "import numpy as np                                         # For numerical operations.\n",
        "import requests                                            # For making HTTP requests\n",
        "import torch                                               # The PyTorch library for working with neural networks.\n",
        "from PIL import Image                                      # The Python Imaging Library for working with images.\n",
        "from torchvision.models import mobilenet_v3_small          # Contains pre-trained models like MobileNet v3.\n",
        "import qai_hub as hub                                      # The Qualcomm AI Hub library for deploying and profiling models."
      ]
    },
    {
      "cell_type": "code",
      "execution_count": null,
      "metadata": {
        "colab": {
          "base_uri": "https://localhost:8080/"
        },
        "id": "iYA8zO_iZYDQ",
        "outputId": "66b9d67e-76f2-43e9-f3a7-5ec2c22e58f1"
      },
      "outputs": [
        {
          "output_type": "execute_result",
          "data": {
            "text/plain": [
              "MobileNetV3(\n",
              "  (features): Sequential(\n",
              "    (0): Conv2dNormActivation(\n",
              "      (0): Conv2d(3, 16, kernel_size=(3, 3), stride=(2, 2), padding=(1, 1), bias=False)\n",
              "      (1): BatchNorm2d(16, eps=0.001, momentum=0.01, affine=True, track_running_stats=True)\n",
              "      (2): Hardswish()\n",
              "    )\n",
              "    (1): InvertedResidual(\n",
              "      (block): Sequential(\n",
              "        (0): Conv2dNormActivation(\n",
              "          (0): Conv2d(16, 16, kernel_size=(3, 3), stride=(2, 2), padding=(1, 1), groups=16, bias=False)\n",
              "          (1): BatchNorm2d(16, eps=0.001, momentum=0.01, affine=True, track_running_stats=True)\n",
              "          (2): ReLU(inplace=True)\n",
              "        )\n",
              "        (1): SqueezeExcitation(\n",
              "          (avgpool): AdaptiveAvgPool2d(output_size=1)\n",
              "          (fc1): Conv2d(16, 8, kernel_size=(1, 1), stride=(1, 1))\n",
              "          (fc2): Conv2d(8, 16, kernel_size=(1, 1), stride=(1, 1))\n",
              "          (activation): ReLU()\n",
              "          (scale_activation): Hardsigmoid()\n",
              "        )\n",
              "        (2): Conv2dNormActivation(\n",
              "          (0): Conv2d(16, 16, kernel_size=(1, 1), stride=(1, 1), bias=False)\n",
              "          (1): BatchNorm2d(16, eps=0.001, momentum=0.01, affine=True, track_running_stats=True)\n",
              "        )\n",
              "      )\n",
              "    )\n",
              "    (2): InvertedResidual(\n",
              "      (block): Sequential(\n",
              "        (0): Conv2dNormActivation(\n",
              "          (0): Conv2d(16, 72, kernel_size=(1, 1), stride=(1, 1), bias=False)\n",
              "          (1): BatchNorm2d(72, eps=0.001, momentum=0.01, affine=True, track_running_stats=True)\n",
              "          (2): ReLU(inplace=True)\n",
              "        )\n",
              "        (1): Conv2dNormActivation(\n",
              "          (0): Conv2d(72, 72, kernel_size=(3, 3), stride=(2, 2), padding=(1, 1), groups=72, bias=False)\n",
              "          (1): BatchNorm2d(72, eps=0.001, momentum=0.01, affine=True, track_running_stats=True)\n",
              "          (2): ReLU(inplace=True)\n",
              "        )\n",
              "        (2): Conv2dNormActivation(\n",
              "          (0): Conv2d(72, 24, kernel_size=(1, 1), stride=(1, 1), bias=False)\n",
              "          (1): BatchNorm2d(24, eps=0.001, momentum=0.01, affine=True, track_running_stats=True)\n",
              "        )\n",
              "      )\n",
              "    )\n",
              "    (3): InvertedResidual(\n",
              "      (block): Sequential(\n",
              "        (0): Conv2dNormActivation(\n",
              "          (0): Conv2d(24, 88, kernel_size=(1, 1), stride=(1, 1), bias=False)\n",
              "          (1): BatchNorm2d(88, eps=0.001, momentum=0.01, affine=True, track_running_stats=True)\n",
              "          (2): ReLU(inplace=True)\n",
              "        )\n",
              "        (1): Conv2dNormActivation(\n",
              "          (0): Conv2d(88, 88, kernel_size=(3, 3), stride=(1, 1), padding=(1, 1), groups=88, bias=False)\n",
              "          (1): BatchNorm2d(88, eps=0.001, momentum=0.01, affine=True, track_running_stats=True)\n",
              "          (2): ReLU(inplace=True)\n",
              "        )\n",
              "        (2): Conv2dNormActivation(\n",
              "          (0): Conv2d(88, 24, kernel_size=(1, 1), stride=(1, 1), bias=False)\n",
              "          (1): BatchNorm2d(24, eps=0.001, momentum=0.01, affine=True, track_running_stats=True)\n",
              "        )\n",
              "      )\n",
              "    )\n",
              "    (4): InvertedResidual(\n",
              "      (block): Sequential(\n",
              "        (0): Conv2dNormActivation(\n",
              "          (0): Conv2d(24, 96, kernel_size=(1, 1), stride=(1, 1), bias=False)\n",
              "          (1): BatchNorm2d(96, eps=0.001, momentum=0.01, affine=True, track_running_stats=True)\n",
              "          (2): Hardswish()\n",
              "        )\n",
              "        (1): Conv2dNormActivation(\n",
              "          (0): Conv2d(96, 96, kernel_size=(5, 5), stride=(2, 2), padding=(2, 2), groups=96, bias=False)\n",
              "          (1): BatchNorm2d(96, eps=0.001, momentum=0.01, affine=True, track_running_stats=True)\n",
              "          (2): Hardswish()\n",
              "        )\n",
              "        (2): SqueezeExcitation(\n",
              "          (avgpool): AdaptiveAvgPool2d(output_size=1)\n",
              "          (fc1): Conv2d(96, 24, kernel_size=(1, 1), stride=(1, 1))\n",
              "          (fc2): Conv2d(24, 96, kernel_size=(1, 1), stride=(1, 1))\n",
              "          (activation): ReLU()\n",
              "          (scale_activation): Hardsigmoid()\n",
              "        )\n",
              "        (3): Conv2dNormActivation(\n",
              "          (0): Conv2d(96, 40, kernel_size=(1, 1), stride=(1, 1), bias=False)\n",
              "          (1): BatchNorm2d(40, eps=0.001, momentum=0.01, affine=True, track_running_stats=True)\n",
              "        )\n",
              "      )\n",
              "    )\n",
              "    (5): InvertedResidual(\n",
              "      (block): Sequential(\n",
              "        (0): Conv2dNormActivation(\n",
              "          (0): Conv2d(40, 240, kernel_size=(1, 1), stride=(1, 1), bias=False)\n",
              "          (1): BatchNorm2d(240, eps=0.001, momentum=0.01, affine=True, track_running_stats=True)\n",
              "          (2): Hardswish()\n",
              "        )\n",
              "        (1): Conv2dNormActivation(\n",
              "          (0): Conv2d(240, 240, kernel_size=(5, 5), stride=(1, 1), padding=(2, 2), groups=240, bias=False)\n",
              "          (1): BatchNorm2d(240, eps=0.001, momentum=0.01, affine=True, track_running_stats=True)\n",
              "          (2): Hardswish()\n",
              "        )\n",
              "        (2): SqueezeExcitation(\n",
              "          (avgpool): AdaptiveAvgPool2d(output_size=1)\n",
              "          (fc1): Conv2d(240, 64, kernel_size=(1, 1), stride=(1, 1))\n",
              "          (fc2): Conv2d(64, 240, kernel_size=(1, 1), stride=(1, 1))\n",
              "          (activation): ReLU()\n",
              "          (scale_activation): Hardsigmoid()\n",
              "        )\n",
              "        (3): Conv2dNormActivation(\n",
              "          (0): Conv2d(240, 40, kernel_size=(1, 1), stride=(1, 1), bias=False)\n",
              "          (1): BatchNorm2d(40, eps=0.001, momentum=0.01, affine=True, track_running_stats=True)\n",
              "        )\n",
              "      )\n",
              "    )\n",
              "    (6): InvertedResidual(\n",
              "      (block): Sequential(\n",
              "        (0): Conv2dNormActivation(\n",
              "          (0): Conv2d(40, 240, kernel_size=(1, 1), stride=(1, 1), bias=False)\n",
              "          (1): BatchNorm2d(240, eps=0.001, momentum=0.01, affine=True, track_running_stats=True)\n",
              "          (2): Hardswish()\n",
              "        )\n",
              "        (1): Conv2dNormActivation(\n",
              "          (0): Conv2d(240, 240, kernel_size=(5, 5), stride=(1, 1), padding=(2, 2), groups=240, bias=False)\n",
              "          (1): BatchNorm2d(240, eps=0.001, momentum=0.01, affine=True, track_running_stats=True)\n",
              "          (2): Hardswish()\n",
              "        )\n",
              "        (2): SqueezeExcitation(\n",
              "          (avgpool): AdaptiveAvgPool2d(output_size=1)\n",
              "          (fc1): Conv2d(240, 64, kernel_size=(1, 1), stride=(1, 1))\n",
              "          (fc2): Conv2d(64, 240, kernel_size=(1, 1), stride=(1, 1))\n",
              "          (activation): ReLU()\n",
              "          (scale_activation): Hardsigmoid()\n",
              "        )\n",
              "        (3): Conv2dNormActivation(\n",
              "          (0): Conv2d(240, 40, kernel_size=(1, 1), stride=(1, 1), bias=False)\n",
              "          (1): BatchNorm2d(40, eps=0.001, momentum=0.01, affine=True, track_running_stats=True)\n",
              "        )\n",
              "      )\n",
              "    )\n",
              "    (7): InvertedResidual(\n",
              "      (block): Sequential(\n",
              "        (0): Conv2dNormActivation(\n",
              "          (0): Conv2d(40, 120, kernel_size=(1, 1), stride=(1, 1), bias=False)\n",
              "          (1): BatchNorm2d(120, eps=0.001, momentum=0.01, affine=True, track_running_stats=True)\n",
              "          (2): Hardswish()\n",
              "        )\n",
              "        (1): Conv2dNormActivation(\n",
              "          (0): Conv2d(120, 120, kernel_size=(5, 5), stride=(1, 1), padding=(2, 2), groups=120, bias=False)\n",
              "          (1): BatchNorm2d(120, eps=0.001, momentum=0.01, affine=True, track_running_stats=True)\n",
              "          (2): Hardswish()\n",
              "        )\n",
              "        (2): SqueezeExcitation(\n",
              "          (avgpool): AdaptiveAvgPool2d(output_size=1)\n",
              "          (fc1): Conv2d(120, 32, kernel_size=(1, 1), stride=(1, 1))\n",
              "          (fc2): Conv2d(32, 120, kernel_size=(1, 1), stride=(1, 1))\n",
              "          (activation): ReLU()\n",
              "          (scale_activation): Hardsigmoid()\n",
              "        )\n",
              "        (3): Conv2dNormActivation(\n",
              "          (0): Conv2d(120, 48, kernel_size=(1, 1), stride=(1, 1), bias=False)\n",
              "          (1): BatchNorm2d(48, eps=0.001, momentum=0.01, affine=True, track_running_stats=True)\n",
              "        )\n",
              "      )\n",
              "    )\n",
              "    (8): InvertedResidual(\n",
              "      (block): Sequential(\n",
              "        (0): Conv2dNormActivation(\n",
              "          (0): Conv2d(48, 144, kernel_size=(1, 1), stride=(1, 1), bias=False)\n",
              "          (1): BatchNorm2d(144, eps=0.001, momentum=0.01, affine=True, track_running_stats=True)\n",
              "          (2): Hardswish()\n",
              "        )\n",
              "        (1): Conv2dNormActivation(\n",
              "          (0): Conv2d(144, 144, kernel_size=(5, 5), stride=(1, 1), padding=(2, 2), groups=144, bias=False)\n",
              "          (1): BatchNorm2d(144, eps=0.001, momentum=0.01, affine=True, track_running_stats=True)\n",
              "          (2): Hardswish()\n",
              "        )\n",
              "        (2): SqueezeExcitation(\n",
              "          (avgpool): AdaptiveAvgPool2d(output_size=1)\n",
              "          (fc1): Conv2d(144, 40, kernel_size=(1, 1), stride=(1, 1))\n",
              "          (fc2): Conv2d(40, 144, kernel_size=(1, 1), stride=(1, 1))\n",
              "          (activation): ReLU()\n",
              "          (scale_activation): Hardsigmoid()\n",
              "        )\n",
              "        (3): Conv2dNormActivation(\n",
              "          (0): Conv2d(144, 48, kernel_size=(1, 1), stride=(1, 1), bias=False)\n",
              "          (1): BatchNorm2d(48, eps=0.001, momentum=0.01, affine=True, track_running_stats=True)\n",
              "        )\n",
              "      )\n",
              "    )\n",
              "    (9): InvertedResidual(\n",
              "      (block): Sequential(\n",
              "        (0): Conv2dNormActivation(\n",
              "          (0): Conv2d(48, 288, kernel_size=(1, 1), stride=(1, 1), bias=False)\n",
              "          (1): BatchNorm2d(288, eps=0.001, momentum=0.01, affine=True, track_running_stats=True)\n",
              "          (2): Hardswish()\n",
              "        )\n",
              "        (1): Conv2dNormActivation(\n",
              "          (0): Conv2d(288, 288, kernel_size=(5, 5), stride=(2, 2), padding=(2, 2), groups=288, bias=False)\n",
              "          (1): BatchNorm2d(288, eps=0.001, momentum=0.01, affine=True, track_running_stats=True)\n",
              "          (2): Hardswish()\n",
              "        )\n",
              "        (2): SqueezeExcitation(\n",
              "          (avgpool): AdaptiveAvgPool2d(output_size=1)\n",
              "          (fc1): Conv2d(288, 72, kernel_size=(1, 1), stride=(1, 1))\n",
              "          (fc2): Conv2d(72, 288, kernel_size=(1, 1), stride=(1, 1))\n",
              "          (activation): ReLU()\n",
              "          (scale_activation): Hardsigmoid()\n",
              "        )\n",
              "        (3): Conv2dNormActivation(\n",
              "          (0): Conv2d(288, 96, kernel_size=(1, 1), stride=(1, 1), bias=False)\n",
              "          (1): BatchNorm2d(96, eps=0.001, momentum=0.01, affine=True, track_running_stats=True)\n",
              "        )\n",
              "      )\n",
              "    )\n",
              "    (10): InvertedResidual(\n",
              "      (block): Sequential(\n",
              "        (0): Conv2dNormActivation(\n",
              "          (0): Conv2d(96, 576, kernel_size=(1, 1), stride=(1, 1), bias=False)\n",
              "          (1): BatchNorm2d(576, eps=0.001, momentum=0.01, affine=True, track_running_stats=True)\n",
              "          (2): Hardswish()\n",
              "        )\n",
              "        (1): Conv2dNormActivation(\n",
              "          (0): Conv2d(576, 576, kernel_size=(5, 5), stride=(1, 1), padding=(2, 2), groups=576, bias=False)\n",
              "          (1): BatchNorm2d(576, eps=0.001, momentum=0.01, affine=True, track_running_stats=True)\n",
              "          (2): Hardswish()\n",
              "        )\n",
              "        (2): SqueezeExcitation(\n",
              "          (avgpool): AdaptiveAvgPool2d(output_size=1)\n",
              "          (fc1): Conv2d(576, 144, kernel_size=(1, 1), stride=(1, 1))\n",
              "          (fc2): Conv2d(144, 576, kernel_size=(1, 1), stride=(1, 1))\n",
              "          (activation): ReLU()\n",
              "          (scale_activation): Hardsigmoid()\n",
              "        )\n",
              "        (3): Conv2dNormActivation(\n",
              "          (0): Conv2d(576, 96, kernel_size=(1, 1), stride=(1, 1), bias=False)\n",
              "          (1): BatchNorm2d(96, eps=0.001, momentum=0.01, affine=True, track_running_stats=True)\n",
              "        )\n",
              "      )\n",
              "    )\n",
              "    (11): InvertedResidual(\n",
              "      (block): Sequential(\n",
              "        (0): Conv2dNormActivation(\n",
              "          (0): Conv2d(96, 576, kernel_size=(1, 1), stride=(1, 1), bias=False)\n",
              "          (1): BatchNorm2d(576, eps=0.001, momentum=0.01, affine=True, track_running_stats=True)\n",
              "          (2): Hardswish()\n",
              "        )\n",
              "        (1): Conv2dNormActivation(\n",
              "          (0): Conv2d(576, 576, kernel_size=(5, 5), stride=(1, 1), padding=(2, 2), groups=576, bias=False)\n",
              "          (1): BatchNorm2d(576, eps=0.001, momentum=0.01, affine=True, track_running_stats=True)\n",
              "          (2): Hardswish()\n",
              "        )\n",
              "        (2): SqueezeExcitation(\n",
              "          (avgpool): AdaptiveAvgPool2d(output_size=1)\n",
              "          (fc1): Conv2d(576, 144, kernel_size=(1, 1), stride=(1, 1))\n",
              "          (fc2): Conv2d(144, 576, kernel_size=(1, 1), stride=(1, 1))\n",
              "          (activation): ReLU()\n",
              "          (scale_activation): Hardsigmoid()\n",
              "        )\n",
              "        (3): Conv2dNormActivation(\n",
              "          (0): Conv2d(576, 96, kernel_size=(1, 1), stride=(1, 1), bias=False)\n",
              "          (1): BatchNorm2d(96, eps=0.001, momentum=0.01, affine=True, track_running_stats=True)\n",
              "        )\n",
              "      )\n",
              "    )\n",
              "    (12): Conv2dNormActivation(\n",
              "      (0): Conv2d(96, 576, kernel_size=(1, 1), stride=(1, 1), bias=False)\n",
              "      (1): BatchNorm2d(576, eps=0.001, momentum=0.01, affine=True, track_running_stats=True)\n",
              "      (2): Hardswish()\n",
              "    )\n",
              "  )\n",
              "  (avgpool): AdaptiveAvgPool2d(output_size=1)\n",
              "  (classifier): Sequential(\n",
              "    (0): Linear(in_features=576, out_features=1024, bias=True)\n",
              "    (1): Hardswish()\n",
              "    (2): Dropout(p=0.2, inplace=True)\n",
              "    (3): Linear(in_features=1024, out_features=1000, bias=True)\n",
              "  )\n",
              ")"
            ]
          },
          "metadata": {},
          "execution_count": 24
        }
      ],
      "source": [
        "# Using pre-trained MobileNet\n",
        "torch_model = mobilenet_v3_small(pretrained=True)\n",
        "torch_model.eval()"
      ]
    },
    {
      "cell_type": "code",
      "execution_count": null,
      "metadata": {
        "colab": {
          "base_uri": "https://localhost:8080/"
        },
        "id": "xAHohmBeZ8Nx",
        "outputId": "00301e81-d512-4da3-cc8d-5ec3d159948f"
      },
      "outputs": [
        {
          "output_type": "stream",
          "name": "stdout",
          "text": [
            "Uploading tmpea3om1qu.pt\n"
          ]
        },
        {
          "output_type": "stream",
          "name": "stderr",
          "text": [
            "100%|\u001b[34m██████████\u001b[0m| 10.2M/10.2M [00:01<00:00, 6.01MB/s]\n"
          ]
        },
        {
          "output_type": "stream",
          "name": "stdout",
          "text": [
            "Scheduled compile job (jgz2jqm6g) successfully. To see the status and results:\n",
            "    https://app.aihub.qualcomm.com/jobs/jgz2jqm6g/\n",
            "\n",
            "Waiting for compile job (jgz2jqm6g) completion. Type Ctrl+C to stop waiting at any time.\n",
            "    ✅ SUCCESS                          \u0007\n",
            "Scheduled profile job (jp12wkjlg) successfully. To see the status and results:\n",
            "    https://app.aihub.qualcomm.com/jobs/jp12wkjlg/\n",
            "\n"
          ]
        }
      ],
      "source": [
        "# Trace model\n",
        "input_shape = (1, 3, 224, 224)\n",
        "example_input = torch.rand(input_shape)\n",
        "traced_torch_model = torch.jit.trace(torch_model, example_input)\n",
        "\n",
        "\n",
        "# Compile model\n",
        "compile_job = hub.submit_compile_job(\n",
        "    model=traced_torch_model,\n",
        "    device=hub.Device(\"Samsung Galaxy S24 (Family)\"),\n",
        "    input_specs=dict(image=input_shape),\n",
        "    options=\"--target_runtime tflite\",\n",
        ")\n",
        "assert isinstance(compile_job, hub.CompileJob)\n",
        "\n",
        "\n",
        "# Profile on cloud-hosted device\n",
        "target_model = compile_job.get_target_model()\n",
        "assert isinstance(target_model, hub.Model)\n",
        "profile_job = hub.submit_profile_job(\n",
        "    model=target_model,\n",
        "    device=hub.Device(\"Samsung Galaxy S24 (Family)\"),\n",
        ")\n",
        "assert isinstance(profile_job, hub.ProfileJob)"
      ]
    },
    {
      "cell_type": "code",
      "execution_count": null,
      "metadata": {
        "id": "JqCLffVAcDhB",
        "colab": {
          "base_uri": "https://localhost:8080/",
          "height": 296
        },
        "outputId": "28b20640-fbd1-4351-8bc0-6f33bcf02857"
      },
      "outputs": [
        {
          "output_type": "stream",
          "name": "stderr",
          "text": [
            "Uploading dataset: 154kB [00:00, 169kB/s]                    \n"
          ]
        },
        {
          "output_type": "stream",
          "name": "stdout",
          "text": [
            "Scheduled inference job (jp4nd6elg) successfully. To see the status and results:\n",
            "    https://app.aihub.qualcomm.com/jobs/jp4nd6elg/\n",
            "\n",
            "Waiting for inference job (jp4nd6elg) completion. Type Ctrl+C to stop waiting at any time.\n",
            "    ✅ SUCCESS                          \u0007\n"
          ]
        },
        {
          "output_type": "stream",
          "name": "stderr",
          "text": [
            "tmp_xwop7fm.h5: 100%|\u001b[34m██████████\u001b[0m| 14.4k/14.4k [00:00<00:00, 5.23MB/s]\n"
          ]
        },
        {
          "output_type": "stream",
          "name": "stdout",
          "text": [
            "Top-5 On-Device predictions:\n",
            "967 b'espresso'           87.6%\n",
            "968 b'cup'                 7.9%\n",
            "504 b'coffee mug'          3.5%\n",
            "969 b'eggnog'              0.3%\n",
            "849 b'teapot'              0.2%\n"
          ]
        },
        {
          "output_type": "stream",
          "name": "stderr",
          "text": [
            "mobilenet_v3.tflite: 100%|\u001b[34m██████████\u001b[0m| 9.71M/9.71M [00:00<00:00, 11.2MB/s]"
          ]
        },
        {
          "output_type": "stream",
          "name": "stdout",
          "text": [
            "Downloaded model to mobilenet_v3.tflite\n"
          ]
        },
        {
          "output_type": "stream",
          "name": "stderr",
          "text": [
            "\n"
          ]
        },
        {
          "output_type": "execute_result",
          "data": {
            "text/plain": [
              "'mobilenet_v3.tflite'"
            ],
            "application/vnd.google.colaboratory.intrinsic+json": {
              "type": "string"
            }
          },
          "metadata": {},
          "execution_count": 29
        }
      ],
      "source": [
        "# Run inference on cloud-hosted device\n",
        "sample_image_url = (\n",
        "    \"https://qaihub-public-assets.s3.us-west-2.amazonaws.com/apidoc/input_image1.jpg\"\n",
        ")\n",
        "response = requests.get(sample_image_url, stream=True)\n",
        "response.raw.decode_content = True\n",
        "image = Image.open(response.raw).resize((224, 224))\n",
        "input_array = np.expand_dims(\n",
        "    np.transpose(np.array(image, dtype=np.float32) / 255.0, (2, 0, 1)), axis=0\n",
        ")\n",
        "\n",
        "\n",
        "# Run inference using the on-device model on the input image\n",
        "inference_job = hub.submit_inference_job(\n",
        "    model=target_model,\n",
        "    device=hub.Device(\"Samsung Galaxy S24 (Family)\"),\n",
        "    inputs=dict(image=[input_array]),\n",
        ")\n",
        "on_device_output = inference_job.download_output_data()\n",
        "\n",
        "\n",
        "# Post-processing the on-device output\n",
        "output_name = list(on_device_output.keys())[0]\n",
        "out = on_device_output[output_name][0]\n",
        "on_device_probabilities = np.exp(out) / np.sum(np.exp(out), axis=1)\n",
        "\n",
        "\n",
        "# Read the class labels for imagenet\n",
        "sample_classes = \"https://qaihub-public-assets.s3.us-west-2.amazonaws.com/apidoc/imagenet_classes.txt\"\n",
        "response = requests.get(sample_classes, stream=True)\n",
        "response.raw.decode_content = True\n",
        "categories = [str(s.strip()) for s in response.raw]\n",
        "\n",
        "\n",
        "# Print top five predictions for the on-device model\n",
        "print(\"Top-5 On-Device predictions:\")\n",
        "top5_classes = np.argsort(on_device_probabilities[0], axis=0)[-5:]\n",
        "for c in reversed(top5_classes):\n",
        "    print(f\"{c} {categories[c]:20s} {on_device_probabilities[0][c]:>6.1%}\")\n",
        "\n",
        "\n",
        "# Download model\n",
        "target_model = compile_job.get_target_model()\n",
        "target_model.download(\"mobilenet_v3.tflite\")"
      ]
    }
  ],
  "metadata": {
    "colab": {
      "provenance": []
    },
    "kernelspec": {
      "display_name": "Python 3",
      "name": "python3"
    },
    "language_info": {
      "name": "python"
    }
  },
  "nbformat": 4,
  "nbformat_minor": 0
}